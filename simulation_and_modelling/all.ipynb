{
 "cells": [
  {
   "cell_type": "code",
   "execution_count": null,
   "metadata": {},
   "outputs": [],
   "source": [
    "#uniform distribution \n",
    "import seaborn as sns\n",
    "import matplotlib.pyplot as plt  \n",
    "\n",
    "from scipy.stats import uniform\n",
    "import numpy as np \n",
    "\n",
    "n = 10000\n",
    "start = 10\n",
    "width = 20\n",
    "data_uniform = uniform.rvs(size=n, loc=start, scale=width)\n",
    "\n",
    "\n",
    "ax = sns.histplot(data_uniform,\n",
    "                  bins=100,\n",
    "                  kde=True,\n",
    "                  color='skyblue',\n",
    "                  stat=\"density\",  \n",
    "                  linewidth=15,  \n",
    "                  alpha=1) \n",
    "\n",
    "\n",
    "ax.set(xlabel='Uniform Distribution', ylabel='Density')\n",
    "\n",
    "\n",
    "plt.show()"
   ]
  },
  {
   "cell_type": "code",
   "execution_count": null,
   "metadata": {},
   "outputs": [],
   "source": [
    "#normal distribution\n",
    "import seaborn as sns\n",
    "import matplotlib.pyplot as plt\n",
    "from scipy.stats import norm\n",
    "\n",
    "\n",
    "data_normal = norm.rvs(size=10000, loc=0, scale=1)\n",
    "\n",
    "\n",
    "ax = sns.histplot(data_normal,\n",
    "                  bins=100,\n",
    "                  kde=True,\n",
    "                  color='skyblue',\n",
    "                  linewidth=15,\n",
    "                  alpha=1)\n",
    "\n",
    "\n",
    "ax.set(xlabel='Normal Distribution', ylabel='Frequency')\n",
    "\n",
    "\n",
    "plt.show()"
   ]
  },
  {
   "cell_type": "code",
   "execution_count": null,
   "metadata": {},
   "outputs": [],
   "source": [
    "# Exponential distribution\n",
    "import seaborn as sns\n",
    "import matplotlib.pyplot as plt\n",
    "from scipy.stats import expon\n",
    "\n",
    "\n",
    "data_expon = expon.rvs(scale=1, loc=0, size=1000)\n",
    "\n",
    "\n",
    "ax = sns.histplot(data_expon,\n",
    "                  kde=True,\n",
    "                  bins=100,\n",
    "                  color='skyblue',\n",
    "                  linewidth=15,\n",
    "                  alpha=1)\n",
    "\n",
    "\n",
    "ax.set(xlabel='Exponential Distribution', ylabel='Frequency')\n",
    "\n",
    "\n",
    "plt.show()\n"
   ]
  },
  {
   "cell_type": "code",
   "execution_count": null,
   "metadata": {},
   "outputs": [],
   "source": [
    "# Binomial Distribution\n",
    "import seaborn as sns\n",
    "import matplotlib.pyplot as plt\n",
    "from scipy.stats import binom\n",
    "\n",
    "\n",
    "data_binom = binom.rvs(n=10, p=0.8, size=10000)\n",
    "\n",
    "\n",
    "ax = sns.histplot(data_binom,\n",
    "                  kde=False,\n",
    "                  color='skyblue',\n",
    "                  bins=100,\n",
    "                  linewidth=15,\n",
    "                  alpha=1)\n",
    "\n",
    "\n",
    "ax.set(xlabel='Binomial Distribution', ylabel='Frequency')\n",
    "\n",
    "\n",
    "plt.show()\n",
    "\n"
   ]
  },
  {
   "attachments": {},
   "cell_type": "markdown",
   "metadata": {},
   "source": [
    "        Group Members.\n",
    "\n",
    "Elijah Sila Maithya C026-010-1024/2021\n",
    "Esther Wairimu      C026-01-1044/2021\n",
    "Meshack Mwima       C026-01-1057/2021\n",
    "Jeremy Gitau        C026-01-1053/2021\n",
    "Girishom Ngonze     C026-01-2771/2021"
   ]
  }
 ],
 "metadata": {
  "language_info": {
   "name": "python"
  },
  "orig_nbformat": 4
 },
 "nbformat": 4,
 "nbformat_minor": 2
}
